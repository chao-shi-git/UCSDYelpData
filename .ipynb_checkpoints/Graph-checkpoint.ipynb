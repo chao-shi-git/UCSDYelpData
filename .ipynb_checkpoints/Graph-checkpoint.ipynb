{
 "cells": [
  {
   "cell_type": "code",
   "execution_count": 1,
   "metadata": {
    "collapsed": true
   },
   "outputs": [],
   "source": [
    "import yelp\n",
    "import json\n",
    "import sqlalchemy\n",
    "\n",
    "from datetime import datetime, timedelta\n",
    "from sqlalchemy import Table, Column, Integer, String, DateTime, ForeignKey, Boolean, Float\n",
    "from sqlalchemy.orm import relationship, backref, sessionmaker\n",
    "from sqlalchemy.ext.declarative import declarative_base\n",
    "from sqlalchemy import create_engine"
   ]
  },
  {
   "cell_type": "code",
   "execution_count": 2,
   "metadata": {
    "collapsed": false
   },
   "outputs": [],
   "source": [
    "users = [json.loads(user) for user in open('data/yelp_academic_dataset_user.json')]"
   ]
  },
  {
   "cell_type": "code",
   "execution_count": 3,
   "metadata": {
    "collapsed": true
   },
   "outputs": [],
   "source": [
    "Base = declarative_base()"
   ]
  },
  {
   "cell_type": "code",
   "execution_count": null,
   "metadata": {
    "collapsed": true
   },
   "outputs": [],
   "source": []
  },
  {
   "cell_type": "code",
   "execution_count": 10,
   "metadata": {
    "collapsed": true
   },
   "outputs": [],
   "source": [
    "class User(Base):\n",
    "\n",
    "    __tablename__ = 'user'\n",
    "\n",
    "    id            =   Column(Integer,    primary_key=True)\n",
    "    user_id       =   Column(String(23), unique=True, nullable=False)\n",
    "    name          =   Column(String,     nullable=False)\n",
    "    votes         =   Column(Integer,    ForeignKey('votes.id'))\n",
    "    elite         =   Column(Boolean,    default=False)\n",
    "    fans          =   Column(Integer,    default=0)\n",
    "    review_count  =   Column(Integer,    default=0)\n",
    "    yelping_since =   Column(String,     default='')\n",
    "    average_stars =   Column(Float,      default=0.0)\n",
    "    compliments   =   Column(Integer,    ForeignKey('compliments.id'))\n",
    "    friends       =   relationship('Friends', backref='friends', lazy='dynamic')\n",
    "\n",
    "    def __repr__(self):\n",
    "        return \"<User (name='%s', user_id='%s', review_count='%d')>\" % (self.name, self.user_id, self.review_count)"
   ]
  },
  {
   "cell_type": "code",
   "execution_count": 4,
   "metadata": {
    "collapsed": true
   },
   "outputs": [],
   "source": [
    "class Friends(Base):\n",
    "    \n",
    "    __tablename__ = 'friends'\n",
    "\n",
    "    user_id =   Column(String, primary_key=True)\n",
    "    name    =   Column(String, nullable=False)"
   ]
  },
  {
   "cell_type": "code",
   "execution_count": 5,
   "metadata": {
    "collapsed": false
   },
   "outputs": [],
   "source": [
    "class Compliments(Base):\n",
    "\n",
    "    __tablename__ = 'compliments'\n",
    "\n",
    "    id      =   Column(Integer, primary_key=True)\n",
    "    name    =   Column(String(255), unique=True, nullable=False)\n",
    "\n",
    "    def __repr__(self):\n",
    "        return \"<Compliments (name='%s')>\" % (self.name)"
   ]
  },
  {
   "cell_type": "code",
   "execution_count": 6,
   "metadata": {
    "collapsed": false
   },
   "outputs": [],
   "source": [
    "class Votes(Base):\n",
    "    \n",
    "    __tablename__ = 'votes'\n",
    "    \n",
    "    id      =   Column(Integer, primary_key=True)\n",
    "    name    =   Column(String(255), unique=True, nullable=False)"
   ]
  },
  {
   "cell_type": "code",
   "execution_count": 11,
   "metadata": {
    "collapsed": false
   },
   "outputs": [],
   "source": [
    "engine = create_engine('sqlite:///graph.db')\n",
    "\n",
    "Base.metadata.create_all(engine)\n",
    "Session = sessionmaker(bind=engine)\n",
    "session = Session()"
   ]
  },
  {
   "cell_type": "code",
   "execution_count": 6,
   "metadata": {
    "collapsed": false
   },
   "outputs": [],
   "source": [
    "funny   = Compliments(name='funny')\n",
    "cute    = Compliments(name='cute')\n",
    "photos  = Compliments(name='photos')\n",
    "more    = Compliments(name='more')\n",
    "cool    = Compliments(name='cool')\n",
    "profile = Compliments(name='profile')\n",
    "writer  = Compliments(name='writer')\n",
    "hot     = Compliments(name='hot')\n",
    "note    = Compliments(name='note')\n",
    "plain   = Compliments(name='plain')"
   ]
  },
  {
   "cell_type": "code",
   "execution_count": 33,
   "metadata": {
    "code_folding": [
     0
    ],
    "collapsed": false
   },
   "outputs": [],
   "source": [
    "cool   = Votes(name='cool')\n",
    "funny  = Votes(name='funny')\n",
    "useful = Votes(name='useful')"
   ]
  },
  {
   "cell_type": "code",
   "execution_count": 74,
   "metadata": {
    "collapsed": false
   },
   "outputs": [
    {
     "data": {
      "text/html": [
       "<div style=\"max-height:1000px;max-width:1500px;overflow:auto;\">\n",
       "<table border=\"1\" class=\"dataframe\">\n",
       "  <thead>\n",
       "    <tr style=\"text-align: right;\">\n",
       "      <th></th>\n",
       "      <th>user_id</th>\n",
       "      <th>name</th>\n",
       "    </tr>\n",
       "  </thead>\n",
       "  <tbody>\n",
       "  </tbody>\n",
       "</table>\n",
       "</div>"
      ],
      "text/plain": [
       "Empty DataFrame\n",
       "Columns: [user_id, name]\n",
       "Index: []"
      ]
     },
     "execution_count": 74,
     "metadata": {},
     "output_type": "execute_result"
    }
   ],
   "source": [
    "import pandas as pd\n",
    "\n",
    "pd.read_sql_table('friends', engine)"
   ]
  },
  {
   "cell_type": "code",
   "execution_count": 11,
   "metadata": {
    "collapsed": false
   },
   "outputs": [
    {
     "data": {
      "text/plain": [
       "'/Users/jjangsangy/Projects/UCSDYelpData'"
      ]
     },
     "execution_count": 11,
     "metadata": {},
     "output_type": "execute_result"
    }
   ],
   "source": [
    "pwd"
   ]
  },
  {
   "cell_type": "code",
   "execution_count": 8,
   "metadata": {
    "collapsed": false
   },
   "outputs": [],
   "source": [
    "for u in users:\n",
    "    session.add(Friends(user_id=u['user_id'], name=u['name']))"
   ]
  },
  {
   "cell_type": "code",
   "execution_count": 9,
   "metadata": {
    "collapsed": true
   },
   "outputs": [],
   "source": [
    "session.commit()"
   ]
  },
  {
   "cell_type": "code",
   "execution_count": null,
   "metadata": {
    "collapsed": true
   },
   "outputs": [],
   "source": []
  }
 ],
 "metadata": {
  "kernelspec": {
   "display_name": "Python 3",
   "language": "python",
   "name": "python3"
  },
  "language_info": {
   "codemirror_mode": {
    "name": "ipython",
    "version": 3
   },
   "file_extension": ".py",
   "mimetype": "text/x-python",
   "name": "python",
   "nbconvert_exporter": "python",
   "pygments_lexer": "ipython3",
   "version": "3.4.3"
  }
 },
 "nbformat": 4,
 "nbformat_minor": 0
}
